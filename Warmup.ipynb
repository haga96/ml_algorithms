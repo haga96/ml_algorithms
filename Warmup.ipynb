{
 "cells": [
  {
   "cell_type": "markdown",
   "metadata": {},
   "source": [
    "## Wprowadzenie do języka Python"
   ]
  },
  {
   "cell_type": "markdown",
   "metadata": {},
   "source": [
    "1. Podstawowe typy danych.\n",
    "    * Stwórz i wypisz (funkcja print) zmienne zawierające następujące typy danych: **int, float, complex, string, boolean**.\n",
    "    * Czym różnią się **', \", '''** i **\"\"\"** w przypadku stringów? \n",
    "        \n",
    "      W przypadku stringów **'** i **\"** służą do definicji jednoliniowych stringów, natomiast **'''** i **\"\"\"** wieloliniowych stringów."
   ]
  },
  {
   "cell_type": "code",
   "execution_count": 1,
   "metadata": {},
   "outputs": [
    {
     "name": "stdout",
     "output_type": "stream",
     "text": [
      "4\n",
      "4.0\n",
      "(2-2j)\n",
      "string\n",
      "True\n"
     ]
    }
   ],
   "source": [
    "x = 4 #int\n",
    "print(x)\n",
    "y = 4.0 #float\n",
    "print(y)\n",
    "z = complex(2,-2) #comlex\n",
    "print(z)\n",
    "s = \"string\" #string\n",
    "print(s)\n",
    "b = True #boolean\n",
    "print(b)"
   ]
  },
  {
   "cell_type": "markdown",
   "metadata": {},
   "source": [
    "2. Operatory arytmetyczne.\n",
    "    * Operatory arytmetyczne: **+, -, *, /, //, **, %**.  \n",
    "    * Wyjaśnij znaczenie powyższych operatorów arytmetycznych oraz wykonaj operacje arytmetyczne na dowolnych typach danych i wyświetl wynik.\n",
    "    "
   ]
  },
  {
   "cell_type": "markdown",
   "metadata": {},
   "source": [
    "- suma +"
   ]
  },
  {
   "cell_type": "code",
   "execution_count": 2,
   "metadata": {},
   "outputs": [
    {
     "data": {
      "text/plain": [
       "'MOW'"
      ]
     },
     "execution_count": 2,
     "metadata": {},
     "output_type": "execute_result"
    }
   ],
   "source": [
    "\"MO\" + \"W\""
   ]
  },
  {
   "cell_type": "markdown",
   "metadata": {},
   "source": [
    "- różnica -"
   ]
  },
  {
   "cell_type": "code",
   "execution_count": 3,
   "metadata": {},
   "outputs": [
    {
     "data": {
      "text/plain": [
       "15.439999999999998"
      ]
     },
     "execution_count": 3,
     "metadata": {},
     "output_type": "execute_result"
    }
   ],
   "source": [
    "50 - 34.56"
   ]
  },
  {
   "cell_type": "markdown",
   "metadata": {},
   "source": [
    "- iloczyn *"
   ]
  },
  {
   "cell_type": "code",
   "execution_count": 4,
   "metadata": {},
   "outputs": [
    {
     "data": {
      "text/plain": [
       "'MOWMOWMOW'"
      ]
     },
     "execution_count": 4,
     "metadata": {},
     "output_type": "execute_result"
    }
   ],
   "source": [
    "3 * \"MOW\""
   ]
  },
  {
   "cell_type": "markdown",
   "metadata": {},
   "source": [
    "- iloraz /"
   ]
  },
  {
   "cell_type": "code",
   "execution_count": 5,
   "metadata": {},
   "outputs": [
    {
     "data": {
      "text/plain": [
       "2.3333333333333335"
      ]
     },
     "execution_count": 5,
     "metadata": {},
     "output_type": "execute_result"
    }
   ],
   "source": [
    "7/3"
   ]
  },
  {
   "cell_type": "markdown",
   "metadata": {},
   "source": [
    "- iloraz bez reszty //"
   ]
  },
  {
   "cell_type": "code",
   "execution_count": 6,
   "metadata": {},
   "outputs": [
    {
     "data": {
      "text/plain": [
       "2"
      ]
     },
     "execution_count": 6,
     "metadata": {},
     "output_type": "execute_result"
    }
   ],
   "source": [
    "7//3"
   ]
  },
  {
   "cell_type": "markdown",
   "metadata": {},
   "source": [
    "- potęga **"
   ]
  },
  {
   "cell_type": "code",
   "execution_count": 7,
   "metadata": {},
   "outputs": [
    {
     "data": {
      "text/plain": [
       "32"
      ]
     },
     "execution_count": 7,
     "metadata": {},
     "output_type": "execute_result"
    }
   ],
   "source": [
    "2**5"
   ]
  },
  {
   "cell_type": "markdown",
   "metadata": {},
   "source": [
    "- reszta z dzielenia %"
   ]
  },
  {
   "cell_type": "code",
   "execution_count": 8,
   "metadata": {},
   "outputs": [
    {
     "data": {
      "text/plain": [
       "1"
      ]
     },
     "execution_count": 8,
     "metadata": {},
     "output_type": "execute_result"
    }
   ],
   "source": [
    "7%3"
   ]
  },
  {
   "cell_type": "markdown",
   "metadata": {},
   "source": [
    "2. Struktury danych. \n",
    "    * Struktury danych: **list, tuple, set, dict**.  \n",
    "    * Dla każdej struktury danych stwórz pustą strukturę, dodaj do niej 3 dowolne elementy, następnie usuń jeden.  \n",
    "    * Jakie są różnice w poszczególnych strukturach?"
   ]
  },
  {
   "cell_type": "markdown",
   "metadata": {},
   "source": [
    "- struktura **list** jest zmienialna"
   ]
  },
  {
   "cell_type": "code",
   "execution_count": 9,
   "metadata": {},
   "outputs": [
    {
     "data": {
      "text/plain": [
       "[3, 3]"
      ]
     },
     "execution_count": 9,
     "metadata": {},
     "output_type": "execute_result"
    }
   ],
   "source": [
    "values = []\n",
    "values.append(3)\n",
    "values.append(33)\n",
    "values.append(3)\n",
    "values.remove(33)\n",
    "values"
   ]
  },
  {
   "cell_type": "markdown",
   "metadata": {},
   "source": [
    "- struktura **tuple** jest niezmienialna"
   ]
  },
  {
   "cell_type": "code",
   "execution_count": 10,
   "metadata": {},
   "outputs": [],
   "source": [
    "emptyTuple = ()\n",
    "threeTuple = (1,23,54)\n",
    "twoTuple = (1,54)"
   ]
  },
  {
   "cell_type": "markdown",
   "metadata": {},
   "source": [
    "- struktura **set** jest zmienialna oraz jej elementy są unikalne"
   ]
  },
  {
   "cell_type": "code",
   "execution_count": 11,
   "metadata": {},
   "outputs": [
    {
     "data": {
      "text/plain": [
       "{4}"
      ]
     },
     "execution_count": 11,
     "metadata": {},
     "output_type": "execute_result"
    }
   ],
   "source": [
    "numbers = set()\n",
    "numbers.add(4)\n",
    "numbers.add(4)\n",
    "numbers.add(44)\n",
    "numbers.remove(44)\n",
    "numbers"
   ]
  },
  {
   "cell_type": "markdown",
   "metadata": {},
   "source": [
    "- struktura **dict** "
   ]
  },
  {
   "cell_type": "code",
   "execution_count": 12,
   "metadata": {},
   "outputs": [
    {
     "data": {
      "text/plain": [
       "{0: 'zero', 2: 'two'}"
      ]
     },
     "execution_count": 12,
     "metadata": {},
     "output_type": "execute_result"
    }
   ],
   "source": [
    "dictionary = {}\n",
    "dictionary[0] = 'zero'\n",
    "dictionary[1] = 'one'\n",
    "dictionary[2] = 'two'\n",
    "del dictionary[1]\n",
    "dictionary"
   ]
  },
  {
   "cell_type": "markdown",
   "metadata": {},
   "source": [
    "3. Podstawowa kontrola przepływu danych.  \n",
    "    * Zapisz dowolny warunek logiczny z wykorzystaniem instrukcji warunkowych if, elif i else.\n",
    "    * Wypisz liczby od 0 do 10 za pomocą pęli **for i while**\n",
    "    * Napisz kod, który przeiteruje po strukturze list, tak aby wypisać wszystkie elementy wraz z ich pozycjami:  \n",
    "    ```\n",
    "    list = ['element1', 'element2', 'element3']\n",
    "    element1 indeks1\n",
    "    element2 indeks2\n",
    "    element3 indeks3\n",
    "    ```  \n",
    "    Pomocne może być wykorzystanie funkcji **enumerate()**\n",
    "    * Napisz kod, który przeiteruje jednocześnie po dwóch listach i wypisze ich elementy. Zapoznaj się z funkcją **zip()**.  \n",
    "    Czy można przeiterować przez większą ilość struktur danych, niż 2?"
   ]
  },
  {
   "cell_type": "code",
   "execution_count": 13,
   "metadata": {},
   "outputs": [
    {
     "name": "stdout",
     "output_type": "stream",
     "text": [
      "parzysta\n",
      "nieparzysta i mniejsza od 10\n",
      "parzysta\n",
      "nieparzysta i mniejsza od 10\n",
      "parzysta\n",
      "nieparzysta i mniejsza od 10\n",
      "parzysta\n",
      "nieparzysta i mniejsza od 10\n",
      "parzysta\n",
      "nieparzysta i mniejsza od 10\n",
      "parzysta\n",
      "nieparzysta i większa od 10\n",
      "parzysta\n",
      "nieparzysta i większa od 10\n",
      "parzysta\n",
      "nieparzysta i większa od 10\n",
      "parzysta\n",
      "nieparzysta i większa od 10\n",
      "parzysta\n",
      "nieparzysta i większa od 10\n"
     ]
    }
   ],
   "source": [
    "for n in range(20):\n",
    "    if(n%2 == 0):\n",
    "        print('parzysta')\n",
    "    elif(n<10):\n",
    "        print('nieparzysta i mniejsza od 10')\n",
    "    else:\n",
    "        print('nieparzysta i większa od 10')"
   ]
  },
  {
   "cell_type": "code",
   "execution_count": 14,
   "metadata": {},
   "outputs": [
    {
     "name": "stdout",
     "output_type": "stream",
     "text": [
      "0\n",
      "1\n",
      "2\n",
      "3\n",
      "4\n",
      "5\n",
      "6\n",
      "7\n",
      "8\n",
      "9\n",
      "10\n"
     ]
    }
   ],
   "source": [
    "for n in range(11):\n",
    "    print(n)"
   ]
  },
  {
   "cell_type": "code",
   "execution_count": 15,
   "metadata": {},
   "outputs": [
    {
     "name": "stdout",
     "output_type": "stream",
     "text": [
      "0\n",
      "1\n",
      "2\n",
      "3\n",
      "4\n",
      "5\n",
      "6\n",
      "7\n",
      "8\n",
      "9\n",
      "10\n"
     ]
    }
   ],
   "source": [
    "n=0\n",
    "while(n<11):\n",
    "    print(n)\n",
    "    n+=1"
   ]
  },
  {
   "cell_type": "code",
   "execution_count": 16,
   "metadata": {},
   "outputs": [
    {
     "name": "stdout",
     "output_type": "stream",
     "text": [
      "element1 0\n",
      "element2 1\n",
      "element3 2\n"
     ]
    }
   ],
   "source": [
    "lista = ['element1', 'element2', 'element3']\n",
    "for index, element in enumerate(lista):\n",
    "    print(element, index)"
   ]
  },
  {
   "cell_type": "code",
   "execution_count": 17,
   "metadata": {},
   "outputs": [
    {
     "name": "stdout",
     "output_type": "stream",
     "text": [
      "one jeden uno\n",
      "two dwa dos\n",
      "three trzy tres\n"
     ]
    }
   ],
   "source": [
    "ang = ['one', 'two', 'three']\n",
    "pl = ['jeden', 'dwa', 'trzy']\n",
    "es = ['uno', 'dos', 'tres']\n",
    "\n",
    "for (a, p, e) in zip(ang, pl, es):\n",
    "    print(a,p,e)"
   ]
  },
  {
   "cell_type": "markdown",
   "metadata": {},
   "source": [
    "4. Comprehensions\n",
    "    * Stwórz listę zawierającą liczby o 0 do 20, następnie na jej podstawie stwórz listę liczb parzystych bez wykorzystania pętli. (List Comprehension)\n",
    "    * Stwórz słownik (dict), w którym kluczami będą kolejne liczby z zakresu od 0 do 20, a wartościami kwadrat wartości klucza. Nie korzystaj z pętli. (Dictionary Comprehension)\n",
    "    ```\n",
    "    {0: 0, 1: 1, 2: 4, 3: 9, ...}\n",
    "    ```"
   ]
  },
  {
   "cell_type": "code",
   "execution_count": 18,
   "metadata": {},
   "outputs": [
    {
     "data": {
      "text/plain": [
       "[0, 2, 4, 6, 8, 10, 12, 14, 16, 18, 20]"
      ]
     },
     "execution_count": 18,
     "metadata": {},
     "output_type": "execute_result"
    }
   ],
   "source": [
    "[number for number in range(21) if number%2==0]"
   ]
  },
  {
   "cell_type": "code",
   "execution_count": 19,
   "metadata": {},
   "outputs": [
    {
     "data": {
      "text/plain": [
       "[0, 2, 4, 6, 8, 10, 12, 14, 16, 18, 20]"
      ]
     },
     "execution_count": 19,
     "metadata": {},
     "output_type": "execute_result"
    }
   ],
   "source": [
    "list(map(lambda number: number, filter(lambda number: number%2==0, range(21))))"
   ]
  },
  {
   "cell_type": "code",
   "execution_count": 20,
   "metadata": {},
   "outputs": [
    {
     "data": {
      "text/plain": [
       "{0: 0,\n",
       " 1: 1,\n",
       " 2: 4,\n",
       " 3: 9,\n",
       " 4: 16,\n",
       " 5: 25,\n",
       " 6: 36,\n",
       " 7: 49,\n",
       " 8: 64,\n",
       " 9: 81,\n",
       " 10: 100,\n",
       " 11: 121,\n",
       " 12: 144,\n",
       " 13: 169,\n",
       " 14: 196,\n",
       " 15: 225,\n",
       " 16: 256,\n",
       " 17: 289,\n",
       " 18: 324,\n",
       " 19: 361,\n",
       " 20: 400}"
      ]
     },
     "execution_count": 20,
     "metadata": {},
     "output_type": "execute_result"
    }
   ],
   "source": [
    "{n:n**2 for n in range(21)}"
   ]
  },
  {
   "cell_type": "markdown",
   "metadata": {},
   "source": [
    "5. Funkcje\n",
    "    * Napisz funkcje wykonujące operacje dodawania, odejmowania, mnożenia dla dwóch argumentów.\n",
    "    * Rozwiń funkcje, aby wykonywały operacje dla dowolnej ilości argumentów."
   ]
  },
  {
   "cell_type": "code",
   "execution_count": 21,
   "metadata": {},
   "outputs": [
    {
     "data": {
      "text/plain": [
       "26"
      ]
     },
     "execution_count": 21,
     "metadata": {},
     "output_type": "execute_result"
    }
   ],
   "source": [
    "def addition(*args):\n",
    "    sum = 0\n",
    "    for arg in args:\n",
    "        sum+=arg\n",
    "    return sum\n",
    "\n",
    "addition(2,3,6,7,8)"
   ]
  },
  {
   "cell_type": "code",
   "execution_count": 22,
   "metadata": {},
   "outputs": [
    {
     "data": {
      "text/plain": [
       "86"
      ]
     },
     "execution_count": 22,
     "metadata": {},
     "output_type": "execute_result"
    }
   ],
   "source": [
    "def subtraction(*args):\n",
    "    difference = 0\n",
    "    i=0\n",
    "    for arg in args:\n",
    "        if(i==0):\n",
    "            difference+=arg\n",
    "        else:\n",
    "            difference-=arg\n",
    "        i+=1\n",
    "    return difference\n",
    "\n",
    "subtraction(99,10,3)"
   ]
  },
  {
   "cell_type": "code",
   "execution_count": 23,
   "metadata": {},
   "outputs": [
    {
     "data": {
      "text/plain": [
       "2970"
      ]
     },
     "execution_count": 23,
     "metadata": {},
     "output_type": "execute_result"
    }
   ],
   "source": [
    "def multiplication(*args):\n",
    "    product = 0\n",
    "    i=0\n",
    "    for arg in args:\n",
    "        if(i==0):\n",
    "            product+=arg\n",
    "        else:\n",
    "            product*=arg\n",
    "        i+=1\n",
    "    return product\n",
    "\n",
    "multiplication(99,10,3)"
   ]
  },
  {
   "cell_type": "markdown",
   "metadata": {},
   "source": [
    "6. Obsługa plików\n",
    "    * Stwórz listę z liczbami od 1 do 20, następnie stwórz plik o nazwie \"plik.txt\", który w pierwszej lini będzie zawierał zdanie: \"Praca z plikiem.\", a w kolejnych liniach elementy z listy. Na końcu zamknij plik.\n",
    "    * Otwórz wcześniej stworzony plik i wypisz jego zawartość.\n",
    "    * Jakie są tryby otwierania pliku i co oznaczają?\n",
    "    \n",
    "     - 'r' - plik tylko do odczytu\n",
    "     - 'w' - plik do edycji\n",
    "     - 'a' - wszelkie dane zapisane w pliku są automatycznie dodawane na końcu\n",
    "     - 'r+' - otwiera plik do odczytu i zapisu\n",
    "     - 'b' - otwiera plik w trybie binarnym\n",
    "    \n",
    "    * Czym różni się konstrukcja obsługi pliku ze słowem kluczowym `with`?\n",
    "    \n",
    "    Obsługa pliku ze słowem kluczowym 'with' skutkuje poprawnym zamknięciem pliku nawet jeśli w pewnym momencie zostanie zgłoszony wyjątek.\n",
    "    "
   ]
  },
  {
   "cell_type": "code",
   "execution_count": 24,
   "metadata": {},
   "outputs": [
    {
     "name": "stdout",
     "output_type": "stream",
     "text": [
      "Praca z plikiem.\n",
      "1\n",
      "2\n",
      "3\n",
      "4\n",
      "5\n",
      "6\n",
      "7\n",
      "8\n",
      "9\n",
      "10\n",
      "11\n",
      "12\n",
      "13\n",
      "14\n",
      "15\n",
      "16\n",
      "17\n",
      "18\n",
      "19\n",
      "20\n",
      "\n"
     ]
    }
   ],
   "source": [
    "numbers = list(range(1,21))\n",
    "file = open('plik.txt', 'w')\n",
    "file.write('Praca z plikiem.\\n')\n",
    "for n in numbers:\n",
    "    file.write(str(n)+'\\n')\n",
    "file.close()\n",
    "with open('plik.txt') as file:\n",
    "    print(file.read())"
   ]
  },
  {
   "cell_type": "markdown",
   "metadata": {},
   "source": [
    "7. Klasy"
   ]
  }
 ],
 "metadata": {
  "kernelspec": {
   "display_name": "Python 3 (ipykernel)",
   "language": "python",
   "name": "python3"
  },
  "language_info": {
   "codemirror_mode": {
    "name": "ipython",
    "version": 3
   },
   "file_extension": ".py",
   "mimetype": "text/x-python",
   "name": "python",
   "nbconvert_exporter": "python",
   "pygments_lexer": "ipython3",
   "version": "3.7.6"
  }
 },
 "nbformat": 4,
 "nbformat_minor": 4
}
