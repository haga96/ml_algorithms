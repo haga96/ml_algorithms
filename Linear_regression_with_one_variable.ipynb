{
 "cells": [
  {
   "cell_type": "markdown",
   "metadata": {},
   "source": [
    "## Przygotowanie\n",
    "\n",
    "Przed rozpoczęciem pracy z notatnikiem proszę zmienić jego nazwę dodając na początku numer albumu, imię i nazwisko.\n",
    "{nr_albumu}\\_{imię}\\_{nazwisko}\\_{nazwa}\n",
    "\n",
    "Po wykonaniu wszystkich zadań proszę przesłać wypełniony notatnik przez platformę ELF za pomocą formularza \"Prześlij projekt\" w odpowiedniej sekcji. "
   ]
  },
  {
   "cell_type": "markdown",
   "metadata": {},
   "source": [
    "## Regresja liniowa prosta\n",
    "\n",
    "Regresja liniowa prosta, to szczególny przypadek regresji liniowej, w którym zmienną objaśnaną przewidujemy za pomocą jednej zmiennej objaśniającej. Zadanie będzie polegało na wyznaczeniu funkcji regresji opisującej zależność zarobków od lat doświadczenia. \n",
    "\n",
    "Zbiór danych do tego zadania, to Salary.csv. Znajduje się w katalogu datasets.\n",
    "W zbiorze danych znajduje się 35 obserwacji. Każdy wpis jest osobną obserwacją. W zbiorze znajdują się 3 kolumny: YearsExperience, Age i Salary. W pierwszym zadaniu należy wykorzystać YearsExperience i Salary, pomijając Age."
   ]
  },
  {
   "cell_type": "markdown",
   "metadata": {},
   "source": [
    "### Zadanie 1\n",
    "\n",
    "Wczytaj dane z pliku Salary.csv, a następnie stwórz wykres przedstawiający obserwacje."
   ]
  },
  {
   "cell_type": "markdown",
   "metadata": {},
   "source": [
    "    pd.read_csv : Read a comma-separated values (csv) file into DataFrame.\n",
    "    pd.DataFrame: Two-dimensional, size-mutable, potentially heterogeneous tabular data. Data structure also contains labeled axes (rows and columns).\n",
    "    numpy.ndarray.reshape: Returns an array containing the same data with a new shape.\n",
    "    pd.DataFrame.shape[0] : number of rows\n",
    "    pd.DataFrame.shape[1] : number of columns"
   ]
  },
  {
   "cell_type": "code",
   "execution_count": 2,
   "metadata": {},
   "outputs": [
    {
     "data": {
      "text/plain": [
       "<matplotlib.collections.PathCollection at 0x1d11431d9a0>"
      ]
     },
     "execution_count": 2,
     "metadata": {},
     "output_type": "execute_result"
    },
    {
     "data": {
      "image/png": "[encoded data removed]",
      "text/plain": [
       "<Figure size 432x288 with 1 Axes>"
      ]
     },
     "metadata": {
      "needs_background": "light"
     },
     "output_type": "display_data"
    }
   ],
   "source": [
    "import pandas as pd\n",
    "import matplotlib.pyplot as plt\n",
    "\n",
    "df = pd.read_csv('datasets/Salary.csv', sep=',')\n",
    "x = df['YearsExperience'].values.reshape(df['YearsExperience'].shape[0], 1)\n",
    "y = df['Salary'].values.reshape(df['Salary'].shape[0], 1)\n",
    "\n",
    "plt.ylabel('Salary')\n",
    "plt.xlabel('Years Experience')\n",
    "plt.title('The salary in relation to years of experience')\n",
    "plt.scatter(x,y)"
   ]
  },
  {
   "cell_type": "markdown",
   "metadata": {},
   "source": [
    "### Zadanie 2\n",
    "\n",
    "Implementacja algorytmu regresji liniowej prostej.\n",
    "\n",
    "Żeby dobrze zrozumieć zapis matematyczny, który początkowo może sprawiać problemy, przejdziemy po kolei po elementach składowych algorytmu. Następnie złączymy elementy w całość.\n",
    "\n",
    "Wzór na regresję liniową w naszym przypadku będzie wyglądał następująco:\n",
    "\n",
    "\\begin{equation}\n",
    "f(x^{(i)}) = \\beta_{0} + \\beta_{1}x_1 = \\beta_{0} + \\beta_{1}  YearsExperience\n",
    "\\end{equation}\n",
    "\n",
    "Przypomnijmy, że zapis $x^{(i)}$ oznacza wektor dla $i$-tej obserwacji. W naszym przypadku ten wektor będzie zawierał tylko $1$ wartość dla cechy $YearsExperience$.\n",
    "\n",
    "\n",
    "_Uwaga: W różnych źródłach algorytm regresji liniowej ma różne zapisy. Czasem podawane są wzory w postaci z sumą, czasem w postaci macierzowej. Jest to spowodowane tym, że algorytm można zaimplementować na te dwa sposoby. Łatwiejszym i bardziej intuicyjnym podejściem jest podejście z sumą, która bezpośrednio sugeruje wykokrzystanie pętli w celu iteracji po obserwacjach/cechach. Implementacja z wykorzystaniem macierzy jest zwykle krótksza i \"bardziej elegancka\", ale również bardziej wydajna. Aby dobrze zrozumieć działanie algorytmu, najlepiej jest zaimplementować obie wersje i porównać je ze sobą._\n"
   ]
  },
  {
   "cell_type": "markdown",
   "metadata": {},
   "source": [
    "#### 2.1 Inicjalizacja współczynników $\\beta$ regresji\n",
    "\n",
    "Pierwszym krokiem jest inicjalizacja współczynników regresji. W przypadku regresji liniowej prostej mamy dwa współczynniki $\\beta_{0}$ i $\\beta_{1}$. Stwórz dwie zmienne będące współczynnikami regresji liniowej prostej i zainicjalizuj je losowymi wartościami z przedziału $(0,1)$.\n",
    "\n",
    "Dodatkowo stwórz zmienną *alpha*, która przyjmie wartość od $(0,1)$. Możesz ustawić ją ręcznie i sprawdzać jak różne wartości mają wpływ na regresję. "
   ]
  },
  {
   "cell_type": "code",
   "execution_count": 3,
   "metadata": {},
   "outputs": [],
   "source": [
    "import random\n",
    "\n",
    "def get_random():\n",
    "    rand = random.uniform(0,1)\n",
    "    if rand == 0:\n",
    "        rand = random.uniform(0,1)\n",
    "    else:\n",
    "        return rand"
   ]
  },
  {
   "cell_type": "markdown",
   "metadata": {},
   "source": [
    "#### 2.2 Obliczenie predykcji\n",
    "\n",
    "Kolejnym krokiem jest obliczenie wartości funkcji regresji dla wszystkich obserwacji w zbiorze danych. Jest to po prostu wstawienie kolejnych wartości pod wzrór regresji.\n",
    "\n",
    "\\begin{equation}\n",
    "f(x) = \\beta_{0} + \\beta_{1}x_1\n",
    "\\end{equation}\n",
    "\n",
    "Można zrobić to z wykorzystaniem operacji na macierzach (wektorach), albo z wykorzystaniem klasycznej iteracji. "
   ]
  },
  {
   "cell_type": "code",
   "execution_count": 4,
   "metadata": {},
   "outputs": [],
   "source": [
    "def prediction_calculate(beta_0, beta_1, x):\n",
    "    return beta_0 + beta_1*x"
   ]
  },
  {
   "cell_type": "markdown",
   "metadata": {},
   "source": [
    "#### 2.3 Obliczenie błędu\n",
    "\n",
    "Obliczenie wartości błędu regresji nie jest konieczne do aktualizacji wag, jednak jest to bardzo cenna informacja czy nasz algorytm działa poprawnie. Wartość błędu nie może rosnąć w kolejnych epokach.\n",
    "\n",
    "Błąd należy obliczyć zgodnie ze wzorem:\n",
    "\n",
    "\\begin{equation}\n",
    "    SSR = \\frac{1}{2m} \\sum_{i=1}^{m}(f(x^{(i)}) - y^{(i)})^2\n",
    "\\end{equation}"
   ]
  },
  {
   "cell_type": "code",
   "execution_count": 5,
   "metadata": {},
   "outputs": [],
   "source": [
    "def ssr_calculate(actual, predicted):\n",
    "    sum = 0.0\n",
    "    for i in range(len(actual)):\n",
    "        sum += predicted[i] - actual[i]\n",
    "    return sum**2 / 2*float(len(actual))"
   ]
  },
  {
   "cell_type": "markdown",
   "metadata": {},
   "source": [
    "#### 2.4 Obliczenie gradientu \n",
    "\n",
    "Żeby obliczyć gradient, należy obliczyć pochodne cząstkowe względem parametrów $\\beta_{0}$ i $\\beta_{1}$.\n",
    "\n",
    "\\begin{equation}\n",
    "    \\frac{\\partial SSR}{\\partial \\beta_{0}} = \\frac{1}{m} \\sum^{m}_{i=1} (f(x^{(i)}) - y^{(i)})\n",
    "\\end{equation}\n",
    "\n",
    "\\begin{equation}\n",
    "    \\frac{\\partial SSR}{\\partial \\beta_{1}} = \\frac{1}{m} \\sum^{m}_{i=1} (f(x^{(i)}) - y^{(i)})x_{1}^{(i)}\n",
    "\\end{equation}\n",
    "\n",
    "Tutaj ponownie jak wcześniej można wykorzystać operacje na macierzach, lub iteracyjnie obliczyć sumę."
   ]
  },
  {
   "cell_type": "code",
   "execution_count": 6,
   "metadata": {},
   "outputs": [],
   "source": [
    "def d_beta_0_ssr_calculate(actual, predicted):\n",
    "    sum = 0.0\n",
    "    for i in range(len(actual)):\n",
    "        sum += predicted[i] - actual[i]\n",
    "    return sum / float(len(actual))"
   ]
  },
  {
   "cell_type": "code",
   "execution_count": 7,
   "metadata": {},
   "outputs": [],
   "source": [
    "def d_beta_1_ssr_calculate(actual, predicted, x):\n",
    "    sum = 0.0\n",
    "    for i in range(len(actual)):\n",
    "        sum += (predicted[i] - actual[i])*x[i]\n",
    "    return sum / float(len(actual))"
   ]
  },
  {
   "cell_type": "markdown",
   "metadata": {},
   "source": [
    "####  2.5 Aktualizacja współczynników regresji (wag)\n",
    "\n",
    "Po obliczeniu pochodnych cząstkowych należy obliczyć nowe wartości dla współczynników regresji.\n",
    "\n",
    "\n",
    "\\begin{equation}\n",
    "    \\beta_{0} = \\beta_{0} - \\alpha \\frac{\\partial SSR}{\\partial \\beta_{0}} \n",
    "\\end{equation}\n",
    "\n",
    "\\begin{equation}\n",
    "    \\beta_{1} = \\beta_{1} - \\alpha \\frac{\\partial SSR}{\\partial \\beta_{1}} \n",
    "\\end{equation}"
   ]
  },
  {
   "cell_type": "code",
   "execution_count": 8,
   "metadata": {},
   "outputs": [],
   "source": [
    "def parameter_update(beta, alpha, d_beta_SSR):\n",
    "    return beta - alpha*d_beta_SSR"
   ]
  },
  {
   "cell_type": "markdown",
   "metadata": {},
   "source": [
    "#### 2.6 Finalna wersja algorytmu\n",
    "\n",
    "Powyższe działania, to wszystkie elementy potrzebne do stworzenia algorytmu regresji liniowej prostej. Jeden cykl takich operacji nazywany jest **epoką**. Idea obliczania współczynników regresji z wykorzystaniem gradientu polega na iteracyjnym aktualizowaniu współczynników do momentu, aż błąd przestanie znacznie się zmieniać. Można również ustawić jakaś stałą ilość epok. W każdej epoce wykorzystuje się ponownie ten sam zestaw danych.\n",
    "\n",
    "Skoro wiadomo już jakie pojedyncze etapy należy wykonać, żeby obliczyć regresję liniową prostą, przyszedł czas na zebranie wszystkiego w jednym miejscu.\n",
    "\n",
    "Proszę zaimplementować funkcję `learn_and_fit(x, y)`, która dla danych wejściowych będzie zwracać współczynniki regresji w każdej z epok. Dodatkowo proszę zwracać również błąd regresji w każdej epoce. Funkcja może być zaimplementowana w dowolny sposób. Może bezpośrednio zawierać wszystkie instrukcje, może korzystać z innych funkcji pomocniczych albo może korzystać z klasy reprezentującą regresję liniową prostą. \n",
    "\n",
    "Na końcu notebooka znajduje się test jednostkowy, który musi przechodzić przy prawidłowej implementacji algorytmu."
   ]
  },
  {
   "cell_type": "code",
   "execution_count": 9,
   "metadata": {},
   "outputs": [],
   "source": [
    "'''\n",
    "input:\n",
    "x - wartości zmiennej objaśniającej YearsExperience dla wszystkich obserwacji\n",
    "y - wartości zmiennej objaśnianej Salary dla wszystkich obserwacji\n",
    "\n",
    "output:\n",
    "b0: [] - lista z współczynnikami beta_0 w każdej z epok\n",
    "b1: [] - lista z współczynnikami beta_1 w każdej z epok\n",
    "error: [] - lista z błędem w każdej epoce\n",
    "'''\n",
    "def algorithm(x,y,beta_0,beta_1,alpha):\n",
    "    fx = prediction_calculate(beta_0, beta_1, x)\n",
    "    SSR = ssr_calculate(y, fx)\n",
    "    d_beta_0_SSR = d_beta_0_ssr_calculate(y,fx)\n",
    "    d_beta_1_SSR = d_beta_1_ssr_calculate(y,fx,x)\n",
    "    new_beta_0 = parameter_update(beta_0, alpha, d_beta_0_SSR)\n",
    "    new_beta_1 = parameter_update(beta_1, alpha, d_beta_1_SSR)\n",
    "    return SSR, new_beta_0, new_beta_1\n",
    "    \n",
    "\n",
    "\n",
    "def learn_and_fit(x, y):\n",
    "    epochs = 100\n",
    "    b0 = []\n",
    "    b1 = []\n",
    "    error = []\n",
    "    beta_0 = get_random()\n",
    "    beta_1 = get_random()\n",
    "    alpha = get_random()\n",
    "    b0.append(beta_0)\n",
    "    b1.append(beta_1)\n",
    "    for epoch in range(1,epochs):\n",
    "        er, beta_0, beta_1 = algorithm(x,y,beta_0,beta_1,alpha)\n",
    "        error.append(er)\n",
    "        b0.append(beta_0)\n",
    "        b1.append(beta_1)\n",
    "    return b0, b1, error"
   ]
  },
  {
   "cell_type": "code",
   "execution_count": 10,
   "metadata": {},
   "outputs": [],
   "source": [
    "b0_, b1_, error_ = learn_and_fit(x,y)"
   ]
  },
  {
   "cell_type": "markdown",
   "metadata": {},
   "source": [
    "### Zadanie 3\n",
    "\n",
    "Do wykresu stworzonego w zadaniu 1 dodaj prostą regresji. Pokaż w formie animacji, jak zmieniała się funkcja regresji na przestrzeni epok."
   ]
  },
  {
   "cell_type": "code",
   "execution_count": 11,
   "metadata": {},
   "outputs": [
    {
     "name": "stdout",
     "output_type": "stream",
     "text": [
      "[0.6327711183546635, array([28467.80937134]), array([-418033.10135825]), array([7245376.11474512]), array([-1.23622992e+08]), array([2.11182601e+09]), array([-3.60727989e+10]), array([6.16175014e+11]), array([-1.05251467e+13]), array([1.79784499e+14]), array([-3.07097533e+15]), array([5.24566332e+16]), array([-8.96034017e+17]), array([1.53055374e+19]), array([-2.6144038e+20]), array([4.46577411e+21]), array([-7.62817831e+22]), array([1.30300152e+24]), array([-2.2257122e+25]), array([3.80183348e+26]), array([-6.49407313e+27]), array([1.1092802e+29]), array([-1.89480859e+30]), array([3.23660298e+31]), array([-5.52857893e+32]), array([9.44360033e+33]), array([-1.61310146e+35]), array([2.75540707e+36]), array([-4.70662777e+37]), array([8.03959067e+38]), array([-1.37327661e+40]), array([2.34575206e+41]), array([-4.00687867e+42]), array([6.84431953e+43]), array([-1.16910727e+45]), array([1.99700175e+46]), array([-3.41116346e+47]), array([5.82675309e+48]), array([-9.95292427e+49]), array([1.70010124e+51]), array([-2.90401509e+52]), array([4.96047144e+53]), array([-8.47319183e+54]), array([1.44734186e+56]), array([-2.47226607e+57]), array([4.22298261e+58]), array([-7.21345584e+59]), array([1.23216101e+61]), array([-2.10470652e+62]), array([3.59513855e+63]), array([-6.14100875e+64]), array([1.04897177e+66]), array([-1.79179321e+67]), array([3.06063803e+68]), array([-5.22800573e+69]), array([8.9301785e+70]), array([-1.52540169e+72]), array([2.60560338e+73]), array([-4.45074173e+74]), array([7.60250087e+75]), array([-1.29861544e+77]), array([2.21822016e+78]), array([-3.78903601e+79]), array([6.47221324e+80]), array([-1.10554622e+82]), array([1.88843042e+83]), array([-3.22570815e+84]), array([5.50996901e+85]), array([-9.41181194e+86]), array([1.60767155e+88]), array([-2.74613201e+89]), array([4.69078465e+90]), array([-8.01252836e+91]), array([1.36865398e+93]), array([-2.33785596e+94]), array([3.99339099e+95]), array([-6.82128066e+96]), array([1.1651719e+98]), array([-1.99027958e+99]), array([3.39968104e+100]), array([-5.80713948e+101]), array([9.91942144e+102]), array([-1.69437848e+104]), array([2.8942398e+105]), array([-4.94377385e+106]), array([8.44466996e+107]), array([-1.44246992e+109]), array([2.4639441e+110]), array([-4.2087675e+111]), array([7.18917441e+112]), array([-1.2280134e+114]), array([2.09762181e+115]), array([-3.58303684e+116]), array([6.12033732e+117]), array([-1.0454408e+119]), array([1.7857618e+120]), array([-3.05033552e+121]), array([5.21040758e+122]), array([-8.90011836e+123]), array([1.52026699e+125])]\n",
      "[0.8130410048906592, array([217339.27548075]), array([-3499908.97285715]), array([59991577.18488897]), array([-1.0245375e+09]), array([1.75007603e+10]), array([-2.98937718e+11]), array([5.10628224e+12]), array([-8.72225741e+13]), array([1.48988581e+15]), array([-2.54493719e+16]), array([4.34711524e+17]), array([-7.42549206e+18]), array([1.26837982e+20]), array([-2.1665734e+21]), array([3.70081599e+22]), array([-6.32152088e+23]), array([1.07980581e+25]), array([-1.84446215e+26]), array([3.15060408e+27]), array([-5.38168056e+28]), array([9.192677e+29]), array([-1.57024018e+31]), array([2.6821939e+32]), array([-4.58156924e+33]), array([7.82597289e+34]), array([-1.33678765e+36]), array([2.28342372e+37]), array([-3.90041298e+38]), array([6.66246097e+39]), array([-1.13804324e+41]), array([1.94393996e+42]), array([-3.32052636e+43]), array([5.67193202e+44]), array([-9.68846783e+45]), array([1.65492831e+47]), array([-2.8268533e+48]), array([4.82866811e+49]), array([-8.24805295e+50]), array([1.40888493e+52]), array([-2.40657616e+53]), array([4.11077489e+54]), array([-7.02178907e+55]), array([1.1994216e+57]), array([-2.04878294e+58]), array([3.4996131e+59]), array([-5.97783768e+60]), array([1.02109983e+62]), array([-1.74418396e+63]), array([2.97931465e+64]), array([-5.08909381e+65]), array([8.69289716e+66]), array([-1.48487066e+68]), array([2.5363706e+69]), array([-4.33248229e+70]), array([7.40049689e+71]), array([-1.26411029e+73]), array([2.15928044e+74]), array([-3.68835857e+75]), array([6.30024182e+76]), array([-1.07617105e+78]), array([1.83825345e+79]), array([-3.13999874e+80]), array([5.36356512e+81]), array([-9.16173325e+82]), array([1.56495454e+84]), array([-2.67316528e+85]), array([4.56614708e+86]), array([-7.79962965e+87]), array([1.33228785e+89]), array([-2.27573742e+90]), array([3.88728369e+91]), array([-6.64003426e+92]), array([1.13421244e+94]), array([-1.93739641e+95]), array([3.30934904e+96]), array([-5.65283956e+97]), array([9.65585519e+98]), array([-1.64935761e+100]), array([2.81733774e+101]), array([-4.81241418e+102]), array([8.22028893e+103]), array([-1.40414244e+105]), array([2.39847531e+106]), array([-4.09693748e+107]), array([6.99815281e+108]), array([-1.19538419e+110]), array([2.04188647e+111]), array([-3.48783295e+112]), array([5.9577155e+113]), array([-1.01766267e+115]), array([1.73831281e+116]), array([-2.96928589e+117]), array([5.07196326e+118]), array([-8.66363573e+119]), array([1.47987239e+121]), array([-2.52783285e+122]), array([4.31789859e+123]), array([-7.37558585e+124]), array([1.25985513e+126])]\n",
      "[array([-9.00315628e+124]), array([-1.04782734e+125]), array([-1.19533906e+125]), array([-1.56411835e+125]), array([-1.71163007e+125]), array([-2.22792108e+125]), array([-2.30167694e+125]), array([-2.44918866e+125]), array([-2.44918866e+125]), array([-2.81796795e+125]), array([-2.96547967e+125]), array([-3.03923553e+125]), array([-3.03923553e+125]), array([-3.11299138e+125]), array([-3.40801482e+125]), array([-3.70303825e+125]), array([-3.85054997e+125]), array([-3.99806169e+125]), array([-4.44059684e+125]), array([-4.5143527e+125]), array([-5.10439956e+125]), array([-5.32566714e+125]), array([-5.91571401e+125]), array([-6.13698158e+125]), array([-6.50576088e+125]), array([-6.72702845e+125]), array([-7.09580775e+125]), array([-7.1695636e+125]), array([-7.68585461e+125]), array([-7.83336633e+125]), array([-8.34965734e+125]), array([-8.57092492e+125]), array([-9.16097178e+125]), array([-9.60350694e+125]), array([-1.00460421e+126])]\n"
     ]
    },
    {
     "data": {
      "text/plain": [
       "Text(0.5, 1.0, 'The salary in relation to years of experience')"
      ]
     },
     "execution_count": 11,
     "metadata": {},
     "output_type": "execute_result"
    },
    {
     "data": {
      "image/png": "[encoded data removed]",
      "text/plain": [
       "<Figure size 432x288 with 1 Axes>"
      ]
     },
     "metadata": {
      "needs_background": "light"
     },
     "output_type": "display_data"
    }
   ],
   "source": [
    "from numpy import *\n",
    "import math\n",
    "import matplotlib.pyplot as plt\n",
    "\n",
    "simple_regression = []\n",
    "for i in x:\n",
    "    simple_regression.append(b1_[-2]*i+b0_[-2])\n",
    "\n",
    "print(b0_)\n",
    "print(b1_)\n",
    "print(simple_regression)\n",
    "    \n",
    "    \n",
    "t = linspace(0, 14)\n",
    "\n",
    "plt.ylabel('Salary')\n",
    "plt.xlabel('Years Experience')\n",
    "plt.title('The salary in relation to years of experience')\n",
    "#plt.plot(t,simple_regression, 'r')\n",
    "#plt.scatter(t,y,'b')\n",
    "#plt.show()"
   ]
  },
  {
   "cell_type": "code",
   "execution_count": 12,
   "metadata": {},
   "outputs": [],
   "source": [
    "%matplotlib nbagg"
   ]
  },
  {
   "cell_type": "markdown",
   "metadata": {},
   "source": [
    "### Testy jednostkowe"
   ]
  },
  {
   "cell_type": "code",
   "execution_count": 13,
   "metadata": {},
   "outputs": [
    {
     "name": "stderr",
     "output_type": "stream",
     "text": [
      "test_learn_and_fit (__main__.SimpleLinearRegressionTest) ... C:\\Users\\LENOVO\\AppData\\Local\\Temp/ipykernel_12880/2226334833.py:5: RuntimeWarning: overflow encountered in square\n",
      "  return sum**2 / 2*float(len(actual))\n",
      "ok\n",
      "\n",
      "----------------------------------------------------------------------\n",
      "Ran 1 test in 0.052s\n",
      "\n",
      "OK\n"
     ]
    },
    {
     "data": {
      "text/plain": [
       "<unittest.main.TestProgram at 0x1d114b3a8e0>"
      ]
     },
     "execution_count": 13,
     "metadata": {},
     "output_type": "execute_result"
    }
   ],
   "source": [
    "import unittest\n",
    "import pandas as pd\n",
    "\n",
    "class SimpleLinearRegressionTest(unittest.TestCase):\n",
    "    \n",
    "    def test_learn_and_fit(self):\n",
    "        df = pd.read_csv('datasets/Salary.csv', sep=',')\n",
    "        x = df['YearsExperience'].values.reshape(df['YearsExperience'].shape[0], 1)\n",
    "        y = df['Salary'].values.reshape(df['Salary'].shape[0], 1)\n",
    "        \n",
    "        b0, b1, error = learn_and_fit(x, y)\n",
    "        \n",
    "        self.assertTrue(len(b0) > 1)\n",
    "        self.assertTrue(len(b1) > 1)\n",
    "        self.assertTrue(len(b0) == len(b1))\n",
    "        self.assertTrue(all(i >= j for i, j in zip(error, error[1:]))) #Sprawdzenie, czy błędy nie rosną\n",
    "        \n",
    "unittest.main(argv=[''], verbosity=2, exit=False)"
   ]
  }
 ],
 "metadata": {
  "kernelspec": {
   "display_name": "Python 3 (ipykernel)",
   "language": "python",
   "name": "python3"
  },
  "language_info": {
   "codemirror_mode": {
    "name": "ipython",
    "version": 3
   },
   "file_extension": ".py",
   "mimetype": "text/x-python",
   "name": "python",
   "nbconvert_exporter": "python",
   "pygments_lexer": "ipython3",
   "version": "3.9.7"
  }
 },
 "nbformat": 4,
 "nbformat_minor": 4
}
